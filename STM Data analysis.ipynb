{
 "cells": [
  {
   "cell_type": "code",
   "execution_count": 1,
   "metadata": {},
   "outputs": [],
   "source": [
    "import pandas as pd\n",
    "import numpy as np\n",
    "import matplotlib.pyplot as plt\n",
    "import seaborn as sns\n",
    "import nanonispy as nap\n",
    "%matplotlib inline"
   ]
  },
  {
   "cell_type": "code",
   "execution_count": 32,
   "metadata": {},
   "outputs": [],
   "source": [
    "path_prefix=\"C:\\\\Users\\\\yichen\\\\Desktop\\\\FeTe on Bi2Te3_Guannan\\\\Run #88 FeTe on Bi2Te3(MBE-2 #175)\\\\Bias Spectroscopy\"\n",
    "path = path_prefix + str(131) + \".dat\"\n",
    "data = np.loadtxt(path,skiprows=51)"
   ]
  },
  {
   "cell_type": "code",
   "execution_count": 33,
   "metadata": {},
   "outputs": [],
   "source": [
    "plt.figure(figsize=(8,6))\n",
    "plt.plot(data[:,0]*1000,data[:,2])\n",
    "plt.ylim(bottom=0)\n",
    "#plt.xlim((-3,3))\n",
    "plt.xlabel(\"Bias (mV)\",size=15)\n",
    "plt.ylabel(\"dI/dV (a.u.)\",size=15)\n",
    "plt.xticks(fontsize = 15)\n",
    "plt.yticks(fontsize = 15)\n",
    "\n",
    "savepath = path_prefix + str(131) + \".png\"\n",
    "plt.savefig(savepath, dpi=300)\n",
    "plt.close()"
   ]
  },
  {
   "cell_type": "code",
   "execution_count": 23,
   "metadata": {},
   "outputs": [],
   "source": [
    "linecut_temp = nap.read.Grid('.\\Run #88 FeTe on Bi2Te3(MBE-2 #175)\\Grid Spectroscopy105.3ds')\n",
    "lc_bias_vals=linecut_temp.signals.get(\"sweep_signal\")\n",
    "lc_bias = lc_bias_vals *1000"
   ]
  },
  {
   "cell_type": "code",
   "execution_count": 24,
   "metadata": {},
   "outputs": [],
   "source": [
    "linecut=linecut_temp.signals.get(\"Lockin X (V)\")"
   ]
  },
  {
   "cell_type": "code",
   "execution_count": 51,
   "metadata": {},
   "outputs": [],
   "source": [
    "plt.figure(figsize=(4,12))\n",
    "for i in range(61):\n",
    "    if i < 10:\n",
    "        plt.plot(lc_bias,linecut[i,0]+0.5*i,color='#009600')\n",
    "    elif i > 16:\n",
    "        plt.plot(lc_bias,linecut[i,0]+0.5*i, color='#FFC000')\n",
    "    else:\n",
    "        plt.plot(lc_bias,linecut[i,0]+0.5*i,color='#F06AB0');\n",
    "#plt.axvline(x=0,linestyle='--',dashes=(8, 8), lw = 0.75, color='black')\n",
    "#plt.axvline(x=0.16,linestyle='--',dashes=(8, 8),lw = 0.7, color='black')\n",
    "#plt.axvline(x=-0.16,linestyle='--',dashes=(8, 8),lw = 0.7, color='black')\n",
    "#plt.axvline(x=0.5,linestyle='--',dashes=(8, 8), lw = 0.7, color='black')\n",
    "#plt.axvline(x=-0.5,linestyle='--',dashes=(8, 8), lw = 0.7, color='black')\n",
    "#plt.axvline(x=0.8,linestyle='--',dashes=(8, 8), lw = 0.7, color='black')\n",
    "#plt.axvline(x=-0.8,linestyle='--',dashes=(8, 8), lw = 0.7, color='black')\n",
    "plt.xlabel(\"Bias (mV)\",size=15)\n",
    "plt.ylabel(\"dI/dV (a.u.)\",size=15)\n",
    "plt.xticks(fontsize = 12)\n",
    "plt.yticks(fontsize = 12)\n",
    "plt.ylim((0,33))\n",
    "#plt.xlim((-8,8))\n",
    "plt.tight_layout()\n",
    "plt.savefig(\".\\Run #88 FeTe on Bi2Te3(MBE-2 #175)\\Linecut 105.png\", dpi=300)\n",
    "plt.close()"
   ]
  },
  {
   "cell_type": "code",
   "execution_count": 10,
   "metadata": {},
   "outputs": [
    {
     "data": {
      "text/plain": [
       "0.3108547959251934"
      ]
     },
     "execution_count": 10,
     "metadata": {},
     "output_type": "execute_result"
    }
   ],
   "source": [
    "zbc=linecut[18,0,50]\n",
    "bg=(linecut[18,0,:45].mean()+linecut[18,0,56:].mean())*0.5\n",
    "depth_ratio = (bg-zbc)/bg"
   ]
  },
  {
   "cell_type": "code",
   "execution_count": 56,
   "metadata": {},
   "outputs": [],
   "source": [
    "plt.figure(figsize=(9,3))\n",
    "depth_list = []\n",
    "for i in range(17,61):\n",
    "    zbc=linecut[i,0,50]\n",
    "    bg=(linecut[i,0,:41].mean()+linecut[i,0,60:].mean())*0.5\n",
    "    depth_ratio = (bg-zbc)/bg\n",
    "    depth_list.append(depth_ratio)\n",
    "plt.plot(depth_list,'.-', color='#FFC000')\n",
    "plt.xlabel(\"Distance (nm)\",size=15)\n",
    "plt.ylabel(\"Depth\",size=15)\n",
    "plt.ylim((0,0.8))\n",
    "plt.xticks(fontsize = 12)\n",
    "plt.yticks(fontsize = 12)\n",
    "plt.tight_layout()\n",
    "plt.savefig(\".\\Run #88 FeTe on Bi2Te3(MBE-2 #175)\\Linecut 105_depth ratio.png\", dpi=300)\n",
    "plt.close()"
   ]
  },
  {
   "cell_type": "code",
   "execution_count": 25,
   "metadata": {},
   "outputs": [],
   "source": [
    "Height = linecut_temp.signals.get('topo')"
   ]
  },
  {
   "cell_type": "code",
   "execution_count": 26,
   "metadata": {},
   "outputs": [],
   "source": [
    "h = Height.flatten()"
   ]
  },
  {
   "cell_type": "code",
   "execution_count": 52,
   "metadata": {},
   "outputs": [],
   "source": [
    "plt.figure(figsize=(9,3))\n",
    "height_sub = 0.68*(h+5.9*10**(-8))*10**9\n",
    "for i in range(61):\n",
    "    if i < 10:\n",
    "        plt.plot(i,height_sub[i]+0.002*i,'.', color='#009600')\n",
    "    elif i > 16:\n",
    "        plt.plot(i,height_sub[i]+0.002*i,'.', color='#FFC000')\n",
    "    else:\n",
    "        plt.plot(i,height_sub[i]+0.002*i,'.',color='#F06AB0');\n",
    "plt.xlabel(\"Distance (nm)\",size=15)\n",
    "plt.ylabel(\"Height (nm)\",size=15)\n",
    "#plt.ylim((-0.25,1.25))\n",
    "plt.xticks(fontsize = 12)\n",
    "plt.yticks(fontsize = 12)\n",
    "plt.tight_layout()\n",
    "plt.savefig(\".\\Run #88 FeTe on Bi2Te3(MBE-2 #175)\\Linecut 105_height.png\", dpi=300)\n",
    "plt.close()"
   ]
  },
  {
   "cell_type": "code",
   "execution_count": 20,
   "metadata": {},
   "outputs": [],
   "source": [
    "grid=nap.read.Grid(\".\\Run #88 FeTe on Bi2Te3(MBE-2 #175)\\Grid Spectroscopy042.3ds\")\n",
    "bias_vals=grid.signals.get(\"sweep_signal\")\n",
    "bias = bias_vals *1000\n",
    "lockin=grid.signals.get(\"Lockin X (V)\")"
   ]
  },
  {
   "cell_type": "code",
   "execution_count": 22,
   "metadata": {},
   "outputs": [],
   "source": [
    "ZBC = lockin[:,:,25]"
   ]
  },
  {
   "cell_type": "code",
   "execution_count": 111,
   "metadata": {},
   "outputs": [],
   "source": [
    "ZBC_true = ZBC.reshape((40,30))"
   ]
  },
  {
   "cell_type": "code",
   "execution_count": 23,
   "metadata": {},
   "outputs": [],
   "source": [
    "plt.figure()\n",
    "plt.imshow(ZBC,cmap='YlGnBu_r',aspect=1,origin='lower',vmin=0.0, vmax=1.2);\n",
    "plt.colorbar(shrink=1)\n",
    "plt.tight_layout()\n",
    "plt.savefig(\".\\Run #88 FeTe on Bi2Te3(MBE-2 #175)\\Grid 91_ZBC.png\", dpi=300)\n",
    "plt.close()"
   ]
  },
  {
   "cell_type": "code",
   "execution_count": 31,
   "metadata": {},
   "outputs": [],
   "source": [
    "plt.figure()\n",
    "plt.plot(bias,lockin[51,31,:],'#FF33CC');\n",
    "plt.xlabel(\"Bias (mV)\",size=15)\n",
    "plt.ylabel(\"dI/dV (a.u.)\",size=15)\n",
    "plt.xticks(fontsize = 12)\n",
    "plt.yticks(fontsize = 12)\n",
    "plt.ylim((0,3.2))\n",
    "plt.tight_layout()\n",
    "plt.savefig(\".\\Run #88 FeTe on Bi2Te3(MBE-2 #175)\\Grid 91_one point.png\", dpi=300)\n",
    "plt.close()"
   ]
  },
  {
   "cell_type": "code",
   "execution_count": 271,
   "metadata": {},
   "outputs": [],
   "source": [
    "grid_vortex = lockin[60:,10:50,:]"
   ]
  },
  {
   "cell_type": "code",
   "execution_count": 76,
   "metadata": {},
   "outputs": [],
   "source": [
    "lockin_true = lockin.reshape((33,40,41))"
   ]
  },
  {
   "cell_type": "code",
   "execution_count": 273,
   "metadata": {},
   "outputs": [
    {
     "data": {
      "image/png": "[encoded data removed]",
      "text/plain": [
       "<Figure size 432x288 with 2 Axes>"
      ]
     },
     "metadata": {
      "needs_background": "light"
     },
     "output_type": "display_data"
    }
   ],
   "source": [
    "plt.figure()\n",
    "plt.imshow(grid_vortex[:,:,50],cmap='YlGnBu_r',aspect=1,origin='lower',vmin=0.0, vmax=0.7);\n",
    "plt.colorbar(shrink=1)\n",
    "plt.tight_layout()"
   ]
  },
  {
   "cell_type": "code",
   "execution_count": 304,
   "metadata": {},
   "outputs": [],
   "source": [
    "linecut1 = grid_vortex[:,18,:]\n",
    "linecut2 = grid_vortex[:,20,:]\n",
    "linecut3 = grid_vortex[:,24,:]"
   ]
  },
  {
   "cell_type": "code",
   "execution_count": 311,
   "metadata": {},
   "outputs": [],
   "source": [
    "plt.figure(figsize=(4,10))\n",
    "for i in range(40):\n",
    "    plt.plot(bias,linecut3[i,:]+0.2*i)\n",
    "plt.axvline(x=0.16,linestyle='--',dashes=(8, 8),lw = 0.7, color='black')\n",
    "plt.axvline(x=-0.16,linestyle='--',dashes=(8, 8),lw = 0.7, color='black')\n",
    "plt.axvline(x=0.5,linestyle='--',dashes=(8, 8), lw = 0.7, color='black')\n",
    "plt.axvline(x=-0.5,linestyle='--',dashes=(8, 8),lw = 0.7, color='black')\n",
    "plt.axvline(x=0.8,linestyle='--',dashes=(8, 8), lw = 0.7, color='black')\n",
    "plt.xlabel(\"Bias (mV)\",size=15)\n",
    "plt.ylabel(\"dI/dV (a.u.)\",size=15)\n",
    "plt.ylim((0,9))\n",
    "plt.xlim((-3,3))\n",
    "plt.xticks(fontsize = 12)\n",
    "plt.yticks(fontsize = 12)\n",
    "plt.tight_layout()\n",
    "plt.savefig(\".\\Run #88 FeTe on Bi2Te3(MBE-2 #175)\\Grid 54_linecut_6.png\", dpi=300)\n",
    "plt.close()"
   ]
  },
  {
   "cell_type": "code",
   "execution_count": 22,
   "metadata": {},
   "outputs": [],
   "source": [
    "plt.figure()\n",
    "plt.plot(bias,np.mean(lockin,axis=(0,1)),'orange',label='All average');\n",
    "#plt.plot(bias,np.mean(lockin[1:,:,:],axis=(0,1)),'#FF33CC',label='Average over pink box');\n",
    "plt.xlabel(\"Bias (mV)\",size=15)\n",
    "plt.ylabel(\"dI/dV (a.u.)\",size=15)\n",
    "plt.xticks(fontsize = 12)\n",
    "plt.yticks(fontsize = 12)\n",
    "plt.ylim((0,1.8))\n",
    "plt.legend(fontsize=12)\n",
    "plt.tight_layout()\n",
    "plt.savefig(\".\\Run #88 FeTe on Bi2Te3(MBE-2 #175)\\Grid 42_avg_2.png\", dpi=300)\n",
    "plt.close()"
   ]
  },
  {
   "cell_type": "code",
   "execution_count": 7,
   "metadata": {},
   "outputs": [],
   "source": [
    "plt.figure()\n",
    "for i in range(49):\n",
    "    for j in range(50):\n",
    "        plt.plot(bias,lockin[i,j,:],'darkblue',lw=0.05);\n",
    "plt.plot(bias,np.mean(lockin,axis=(0,1)),'orange');\n",
    "plt.xlabel(\"Bias (mV)\",size=15)\n",
    "plt.ylabel(\"dI/dV (a.u.)\",size=15)\n",
    "plt.xticks(fontsize = 12)\n",
    "plt.yticks(fontsize = 12)\n",
    "plt.ylim((0,4))\n",
    "plt.tight_layout()\n",
    "plt.savefig(\".\\Run #88 FeTe on Bi2Te3(MBE-2 #175)\\Grid 71_all.png\", dpi=300)\n",
    "plt.close()"
   ]
  },
  {
   "cell_type": "code",
   "execution_count": null,
   "metadata": {},
   "outputs": [],
   "source": []
  }
 ],
 "metadata": {
  "kernelspec": {
   "display_name": "Python 3",
   "language": "python",
   "name": "python3"
  },
  "language_info": {
   "codemirror_mode": {
    "name": "ipython",
    "version": 3
   },
   "file_extension": ".py",
   "mimetype": "text/x-python",
   "name": "python",
   "nbconvert_exporter": "python",
   "pygments_lexer": "ipython3",
   "version": "3.7.3"
  }
 },
 "nbformat": 4,
 "nbformat_minor": 2
}
