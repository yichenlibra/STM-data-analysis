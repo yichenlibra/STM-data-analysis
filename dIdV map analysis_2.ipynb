{
 "cells": [
  {
   "cell_type": "code",
   "execution_count": 1,
   "metadata": {},
   "outputs": [],
   "source": [
    "import pandas as pd\n",
    "import numpy as np\n",
    "import matplotlib.pyplot as plt\n",
    "import seaborn as sns\n",
    "import nanonispy as nap\n",
    "%matplotlib inline"
   ]
  },
  {
   "cell_type": "code",
   "execution_count": 25,
   "metadata": {},
   "outputs": [],
   "source": [
    "import scipy.stats as stats"
   ]
  },
  {
   "cell_type": "code",
   "execution_count": 32,
   "metadata": {},
   "outputs": [],
   "source": [
    "sns.set_style('darkgrid')\n",
    "plt.style.use('seaborn-darkgrid')"
   ]
  },
  {
   "cell_type": "code",
   "execution_count": 2,
   "metadata": {},
   "outputs": [],
   "source": [
    "grid_list = []\n",
    "for i in range(28,32):\n",
    "    grid_temp = nap.read.Grid('.\\STM-1 Run #84 NbSe2 film\\Grid Spectroscopy0'+str(i)+'.3ds')\n",
    "    grid_list.append(grid_temp)\n",
    "    \n",
    "grid_temp = nap.read.Grid('.\\STM-1 Run #84 NbSe2 film\\Grid Spectroscopy035.3ds')\n",
    "grid_list.append(grid_temp)\n",
    "grid_temp = nap.read.Grid('.\\STM-1 Run #84 NbSe2 film\\Grid Spectroscopy037.3ds')\n",
    "grid_list.append(grid_temp)\n",
    "grid_temp = nap.read.Grid('.\\STM-1 Run #84 NbSe2 film\\Grid Spectroscopy039.3ds')\n",
    "grid_list.append(grid_temp)"
   ]
  },
  {
   "cell_type": "code",
   "execution_count": 3,
   "metadata": {},
   "outputs": [],
   "source": [
    "bias_vals=grid_list[0].signals.get(\"sweep_signal\")\n",
    "bias = bias_vals *1000"
   ]
  },
  {
   "cell_type": "code",
   "execution_count": 10,
   "metadata": {},
   "outputs": [],
   "source": [
    "lockin_flat_list = []\n",
    "for i in range(7):\n",
    "    lockin_temp = grid_list[i].signals.get('Lockin X (V)')\n",
    "    lockin_reshaped = lockin_temp.reshape(30,55,51)\n",
    "    lower_lockin = lockin_reshaped[:14,:,:]\n",
    "    lockin_flat_list.append(lower_lockin.reshape(770,51))"
   ]
  },
  {
   "cell_type": "code",
   "execution_count": 11,
   "metadata": {},
   "outputs": [],
   "source": [
    "ZBC_flat_list = []\n",
    "for i in range(7):\n",
    "    if i == 4:\n",
    "        ZBC_flat = lockin_flat_list[i][:,23]\n",
    "        ZBC_flat_list.append(ZBC_flat)\n",
    "    else:\n",
    "        ZBC_flat = lockin_flat_list[i][:,25]\n",
    "        ZBC_flat_list.append(ZBC_flat)"
   ]
  },
  {
   "cell_type": "code",
   "execution_count": 38,
   "metadata": {},
   "outputs": [],
   "source": [
    "rbound = 10\n",
    "lbound = 51- rbound\n",
    "interval = (rbound-1)*0.06\n",
    "\n",
    "lockin_sub_norm = []\n",
    "for j in range (7):\n",
    "    lockin_sub_norm.append(np.zeros((770,51)))\n",
    "    for i in range(770):\n",
    "        right = (lockin_flat_list[j][i,:rbound].sum())*0.06\n",
    "        left = (lockin_flat_list[j][i,lbound:51].sum()) *0.06\n",
    "        slope = (right - left)/(interval*(3-interval))\n",
    "        Sub_spec = lockin_flat_list[j][i,:]-bias*slope\n",
    "        if j == 4:\n",
    "            Norm_spec = Sub_spec/Sub_spec[48]\n",
    "        else:\n",
    "            Norm_spec = Sub_spec/Sub_spec[50]\n",
    "        lockin_sub_norm[j][i] = Norm_spec"
   ]
  },
  {
   "cell_type": "code",
   "execution_count": 42,
   "metadata": {},
   "outputs": [],
   "source": [
    "ZBC_list = []\n",
    "\n",
    "for i in range(7):\n",
    "    if i != 4:\n",
    "        ZBC_list.append(lockin_sub_norm[i][:,25])\n",
    "    else:\n",
    "        ZBC_list.append(lockin_sub_norm[i][:,23])"
   ]
  },
  {
   "cell_type": "code",
   "execution_count": 43,
   "metadata": {},
   "outputs": [],
   "source": [
    "ZBC_final_list = ZBC_list.copy()\n",
    "for i in range(7):\n",
    "    for cyc in range(10):\n",
    "        Mean = ZBC_final_list[i].mean()\n",
    "        STD = ZBC_final_list[i].std()\n",
    "        \n",
    "        ZBC_final_list[i] = ZBC_final_list[i][(ZBC_final_list[i] > (Mean -5*STD)) & \\\n",
    "                                              (ZBC_final_list[i] < (Mean +5*STD))]"
   ]
  },
  {
   "cell_type": "code",
   "execution_count": 35,
   "metadata": {},
   "outputs": [],
   "source": [
    "plt.figure()\n",
    "#sns.distplot(lock_0T_sub_norm[:,25],bins =100,kde=True,fit=stats.norm)\n",
    "sns.distplot(ZBC_0T,bins =30,kde=True,fit=stats.norm)\n",
    "plt.xlabel('Zero Bias Conductance',size = 15)\n",
    "plt.xticks(fontsize = 15)\n",
    "plt.yticks(fontsize = 15)\n",
    "plt.title('Histogram of Zero Bias Conductance at 0 T',size =20);\n",
    "plt.savefig('.\\STM-1 Run #84 NbSe2 film\\Hist of ZBC at 0 T_after line subtraction and normalization.png',dpi=500)\n",
    "plt.close()"
   ]
  },
  {
   "cell_type": "code",
   "execution_count": 45,
   "metadata": {},
   "outputs": [
    {
     "name": "stdout",
     "output_type": "stream",
     "text": [
      "(766,)\n",
      "\n",
      "\n",
      "(770,)\n",
      "\n",
      "\n",
      "(769,)\n",
      "\n",
      "\n",
      "(769,)\n",
      "\n",
      "\n",
      "(769,)\n",
      "\n",
      "\n",
      "(770,)\n",
      "\n",
      "\n",
      "(767,)\n",
      "\n",
      "\n"
     ]
    }
   ],
   "source": [
    "for i in range(7):\n",
    "    print(ZBC_final_list[i].shape)\n",
    "    print('\\n')"
   ]
  },
  {
   "cell_type": "code",
   "execution_count": 61,
   "metadata": {},
   "outputs": [],
   "source": [
    "plt.rc('xtick', labelsize=15) \n",
    "plt.rc('ytick', labelsize=15)\n",
    "\n",
    "plt.figure(figsize=(16,16))\n",
    "binslist = [5, 10, 22, 20, 22, 20, 40]\n",
    "for i in range(1,8): \n",
    "    plt.subplot(4,2,i)\n",
    "    sns.distplot(ZBC_final_list[(i-1)],bins = binslist[(i-1)],kde=True,fit=stats.norm)\n",
    "    plt.xlabel('Zero Bias Conductance',size = 20)\n",
    "    plt.xlim((0,1.5))\n",
    "    plt.ylim((0,35))\n",
    "    \n",
    "    if i < 5:\n",
    "        plt.title('Histogram of Zero Bias Conductance at ' + str((i-1)*0.5) +' T',size =20)\n",
    "    else:\n",
    "        plt.title('Histogram of Zero Bias Conductance at ' + str(i-3) +' T',size =20)\n",
    "    plt.tight_layout()\n",
    "plt.savefig('.\\STM-1 Run #84 NbSe2 film\\Hist of ZBC in fields_after line sub and norm to -1.5 meV_same x and y range.png',dpi=500)\n",
    "plt.close()"
   ]
  },
  {
   "cell_type": "code",
   "execution_count": 50,
   "metadata": {},
   "outputs": [],
   "source": [
    "plt.rc('xtick', labelsize=15) \n",
    "plt.rc('ytick', labelsize=15)\n",
    "\n",
    "plt.figure(figsize=(16,16))\n",
    "\n",
    "for i in range(1,8): \n",
    "    plt.subplot(4,2,i)\n",
    "    for j in range(770):\n",
    "        plt.plot(bias,lockin_sub_norm[(i-1)][j,:],lw=0.5)\n",
    "    \n",
    "    plt.xlabel('Bias (mV)',size = 20)\n",
    "    plt.xlim((0,1.2))\n",
    "    if i == 1:\n",
    "        plt.ylim(top=2)\n",
    "    if i < 5:\n",
    "        plt.title('Variance at ' + str((i-1)*0.5) +' T',size =20)\n",
    "    else:\n",
    "        plt.title('Variance at ' + str(i-3) +' T',size =20)\n",
    "    plt.tight_layout()\n",
    "#plt.savefig('.\\STM-1 Run #84 NbSe2 film\\Variance in fields_after line sub and norm to -1.5 meV.png',dpi=500)\n",
    "#plt.close()"
   ]
  },
  {
   "cell_type": "code",
   "execution_count": null,
   "metadata": {},
   "outputs": [],
   "source": [
    "\n"
   ]
  }
 ],
 "metadata": {
  "kernelspec": {
   "display_name": "Python 3",
   "language": "python",
   "name": "python3"
  },
  "language_info": {
   "codemirror_mode": {
    "name": "ipython",
    "version": 3
   },
   "file_extension": ".py",
   "mimetype": "text/x-python",
   "name": "python",
   "nbconvert_exporter": "python",
   "pygments_lexer": "ipython3",
   "version": "3.7.3"
  }
 },
 "nbformat": 4,
 "nbformat_minor": 2
}
